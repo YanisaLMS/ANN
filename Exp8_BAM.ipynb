{
 "cells": [
  {
   "cell_type": "markdown",
   "metadata": {},
   "source": [
    "Objective:\n",
    "\n",
    "Students will be able to implement Bidirectional Associative Memory Network algorithm for\n",
    "the given dataset.\n",
    "\n",
    "Students will be able to compute the Weight Matrix using the BAM Algorithm and Test the\n",
    "BAM model for the input patterns.\n",
    "\n",
    "Theory:\n",
    "\n",
    "The architecture of BAM network consists of two layers of neurons which are connected by directed\n",
    "weighted pare interconnections. The network dynamics involve two layers of interaction. The BAM\n",
    "network iterates by sending the signals back and forth between the two layers until all the neurons\n",
    "reach equilibrium. The weights associated with the network are bidirectional. Thus, BAM can respond\n",
    "to the inputs in either layer."
   ]
  },
  {
   "cell_type": "code",
   "execution_count": 13,
   "metadata": {},
   "outputs": [
    {
     "name": "stdout",
     "output_type": "stream",
     "text": [
      "Set A: Input Pattern, Set B: Target Pattern\n",
      "\n",
      "The input for pattern 1 is\n",
      "[[1]\n",
      " [1]\n",
      " [1]\n",
      " [1]\n",
      " [1]\n",
      " [1]]\n",
      "\n",
      "The target for pattern 1 is\n",
      "[[1]\n",
      " [1]\n",
      " [1]]\n",
      "\n",
      "The input for pattern 2 is\n",
      "[[-1]\n",
      " [-1]\n",
      " [-1]\n",
      " [-1]\n",
      " [-1]\n",
      " [-1]]\n",
      "\n",
      "The target for pattern 2 is\n",
      "[[-1]\n",
      " [-1]\n",
      " [-1]]\n",
      "\n",
      "The input for pattern 3 is\n",
      "[[ 1]\n",
      " [ 1]\n",
      " [-1]\n",
      " [-1]\n",
      " [ 1]\n",
      " [ 1]]\n",
      "\n",
      "The target for pattern 3 is\n",
      "[[ 1]\n",
      " [-1]\n",
      " [ 1]]\n",
      "\n",
      "The input for pattern 4 is\n",
      "[[-1]\n",
      " [-1]\n",
      " [ 1]\n",
      " [ 1]\n",
      " [-1]\n",
      " [-1]]\n",
      "\n",
      "The target for pattern 4 is\n",
      "[[-1]\n",
      " [ 1]\n",
      " [-1]]\n",
      "\n",
      "------------------------------\n"
     ]
    }
   ],
   "source": [
    "import numpy as np\n",
    "\n",
    "# Set A: Input Pattern\n",
    "x1 = np.array([1, 1, 1, 1, 1, 1]).reshape(6, 1)\n",
    "x2 = np.array([-1, -1, -1, -1, -1, -1]).reshape(6, 1)\n",
    "x3 = np.array([1, 1, -1, -1, 1, 1]).reshape(6, 1)\n",
    "x4 = np.array([-1, -1, 1, 1, -1, -1]).reshape(6, 1)\n",
    "# Set B: Target Pattern\n",
    "y1 = np.array([1, 1, 1]).reshape(3, 1)\n",
    "y2 = np.array([-1, -1, -1]).reshape(3, 1)\n",
    "y3 = np.array([1, -1, 1]).reshape(3, 1)\n",
    "y4 = np.array([-1, 1, -1]).reshape(3, 1)\n",
    "\n",
    "print(\"Set A: Input Pattern, Set B: Target Pattern\")\n",
    "print(\"\\nThe input for pattern 1 is\")\n",
    "print(x1)\n",
    "print(\"\\nThe target for pattern 1 is\")\n",
    "print(y1)\n",
    "print(\"\\nThe input for pattern 2 is\")\n",
    "print(x2)\n",
    "print(\"\\nThe target for pattern 2 is\")\n",
    "print(y2)\n",
    "print(\"\\nThe input for pattern 3 is\")\n",
    "print(x3)\n",
    "print(\"\\nThe target for pattern 3 is\")\n",
    "print(y3)\n",
    "print(\"\\nThe input for pattern 4 is\")\n",
    "print(x4)\n",
    "print(\"\\nThe target for pattern 4 is\")\n",
    "print(y4)\n",
    "print(\"\\n------------------------------\")\n",
    "\n"
   ]
  },
  {
   "cell_type": "code",
   "execution_count": 4,
   "metadata": {},
   "outputs": [
    {
     "name": "stdout",
     "output_type": "stream",
     "text": [
      "\n",
      "Weight matrix:\n",
      "[[4 0 4]\n",
      " [4 0 4]\n",
      " [0 4 0]\n",
      " [0 4 0]\n",
      " [4 0 4]\n",
      " [4 0 4]]\n",
      "\n",
      "------------------------------\n"
     ]
    }
   ],
   "source": [
    "inputSet = np.concatenate((x1, x2, x3, x4), axis = 1)\n",
    "targetSet = np.concatenate((y1.T, y2.T, y3.T, y4.T), axis = 0)\n",
    "print(\"\\nWeight matrix:\")\n",
    "weight = np.dot(inputSet, targetSet)\n",
    "print(weight)\n",
    "print(\"\\n------------------------------\")"
   ]
  },
  {
   "cell_type": "code",
   "execution_count": 15,
   "metadata": {},
   "outputs": [
    {
     "name": "stdout",
     "output_type": "stream",
     "text": [
      "\n",
      "Testing for input patterns: Set A\n",
      "\n",
      "Output of input pattern 1\n",
      "[[1]\n",
      " [1]\n",
      " [1]]\n",
      "\n",
      "Output of input pattern 2\n",
      "[[-1]\n",
      " [-1]\n",
      " [-1]]\n",
      "\n",
      "Output of input pattern 3\n",
      "[[ 1]\n",
      " [-1]\n",
      " [ 1]]\n",
      "\n",
      "Output of input pattern 4\n",
      "[[-1]\n",
      " [ 1]\n",
      " [-1]]\n"
     ]
    }
   ],
   "source": [
    "print(\"\\nTesting for input patterns: Set A\")\n",
    "def testInputs(x, weight):\n",
    "    y = np.dot(weight.T, x)\n",
    "    y[y < 0] = -1\n",
    "    y[y >= 0] = 1\n",
    "    return np.array(y)\n",
    "print(\"\\nOutput of input pattern 1\")\n",
    "print(testInputs(x1, weight))\n",
    "print(\"\\nOutput of input pattern 2\")\n",
    "print(testInputs(x2, weight))\n",
    "print(\"\\nOutput of input pattern 3\")\n",
    "print(testInputs(x3, weight))\n",
    "print(\"\\nOutput of input pattern 4\")\n",
    "print(testInputs(x4, weight))\n"
   ]
  },
  {
   "cell_type": "code",
   "execution_count": 16,
   "metadata": {},
   "outputs": [
    {
     "name": "stdout",
     "output_type": "stream",
     "text": [
      "\n",
      "Testing for target patterns: Set B\n",
      "\n",
      "Output of target pattern 1\n",
      "[[1]\n",
      " [1]\n",
      " [1]\n",
      " [1]\n",
      " [1]\n",
      " [1]]\n",
      "\n",
      "Output of target pattern 2\n",
      "[[-1]\n",
      " [-1]\n",
      " [-1]\n",
      " [-1]\n",
      " [-1]\n",
      " [-1]]\n",
      "\n",
      "Output of target pattern 3\n",
      "[[ 1]\n",
      " [ 1]\n",
      " [-1]\n",
      " [-1]\n",
      " [ 1]\n",
      " [ 1]]\n",
      "\n",
      "Output of target pattern 4\n",
      "[[-1]\n",
      " [-1]\n",
      " [ 1]\n",
      " [ 1]\n",
      " [-1]\n",
      " [-1]]\n"
     ]
    }
   ],
   "source": [
    "print(\"\\nTesting for target patterns: Set B\")\n",
    "def testTargets(y, weight):\n",
    "    x = np.dot(weight, y)\n",
    "    x[x <= 0] = -1\n",
    "    x[x > 0] = 1\n",
    "    return np.array(x)\n",
    "print(\"\\nOutput of target pattern 1\")\n",
    "print(testTargets(y1, weight))\n",
    "print(\"\\nOutput of target pattern 2\")\n",
    "print(testTargets(y2, weight))\n",
    "print(\"\\nOutput of target pattern 3\")\n",
    "print(testTargets(y3, weight))\n",
    "print(\"\\nOutput of target pattern 4\")\n",
    "print(testTargets(y4, weight))\n"
   ]
  },
  {
   "cell_type": "code",
   "execution_count": 18,
   "metadata": {},
   "outputs": [
    {
     "data": {
      "text/plain": [
       "'Bidirectional Associative Memories (BAM) is system that allow to associate pairs of patterns. Once a\\nmemory has learned, patterns can be recalled in two directions. BAMs have many applications in\\npattern recognition and image processing. BAM compute the weight matrix and Test the BAM\\nmodel for the input patterns.'"
      ]
     },
     "execution_count": 18,
     "metadata": {},
     "output_type": "execute_result"
    }
   ],
   "source": [
    "#Conclusion:\n",
    "'''Bidirectional Associative Memories (BAM) is system that allow to associate pairs of patterns. Once a\n",
    "memory has learned, patterns can be recalled in two directions. BAMs have many applications in\n",
    "pattern recognition and image processing. BAM compute the weight matrix and Test the BAM\n",
    "model for the input patterns.'''"
   ]
  },
  {
   "cell_type": "code",
   "execution_count": null,
   "metadata": {},
   "outputs": [],
   "source": []
  }
 ],
 "metadata": {
  "kernelspec": {
   "display_name": "Python 3",
   "language": "python",
   "name": "python3"
  },
  "language_info": {
   "codemirror_mode": {
    "name": "ipython",
    "version": 3
   },
   "file_extension": ".py",
   "mimetype": "text/x-python",
   "name": "python",
   "nbconvert_exporter": "python",
   "pygments_lexer": "ipython3",
   "version": "3.11.5"
  }
 },
 "nbformat": 4,
 "nbformat_minor": 2
}
